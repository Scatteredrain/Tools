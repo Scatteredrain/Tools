{
 "cells": [
  {
   "cell_type": "code",
   "execution_count": 1,
   "metadata": {},
   "outputs": [],
   "source": [
    "import os\n",
    "import numpy\n",
    "import cv2\n",
    "from openpyxl import Workbook \n",
    "from tqdm import tqdm\n",
    "import matplotlib.pyplot as plt\n",
    "import seaborn as sns\n"
   ]
  },
  {
   "cell_type": "code",
   "execution_count": 2,
   "metadata": {},
   "outputs": [],
   "source": [
    "def cofficent_calculate(pred,gt,threshold=0.5):\n",
    "    eps = 1e-5\n",
    "\n",
    "    if not pred.shape == gt.shape:\n",
    "        pred = cv2.resize(pred, (gt.shape[1], gt.shape[0]))\n",
    "    gt = gt / gt.max()\n",
    "    pred = pred / 255\n",
    "    if pred.max() != pred.min():\n",
    "        pred = (pred - pred.min()) / (pred.max() - pred.min())\n",
    "\n",
    "    preds = pred > threshold\n",
    "    intersection = (preds * gt).sum()\n",
    "    union =(preds + gt).sum()\n",
    "    dice = 2 * intersection  / (union + eps)\n",
    "    iou = intersection/(union - intersection + eps)\n",
    "    return dice"
   ]
  },
  {
   "cell_type": "code",
   "execution_count": 5,
   "metadata": {},
   "outputs": [],
   "source": [
    "split = 'TestEasyDataset/Unseen'\n",
    "\n",
    "gt_path = '/memory/yizhenyu/dataset/SUN/data/SUN-SEG/{}/GT/'.format(split)\n",
    "pred_LSINet = '/data/yizhenyu/project/video-polyp-seg/SLT-Net_align_Memory/res/cas_long2short/Net_epoch_4_best/SUN-SEG/'+split\n",
    "pred_MAST = '/data/yizhenyu/datasets/pvt_MAST/'+split\n",
    "pred_PNSplus = '/data/yizhenyu/datasets/Benchmark/2022-MIR-PNS+/'+split\n",
    "pred_PolypPVT = '/data/yizhenyu/project/video-polyp-seg/Comparison/Polyp-PVT/results_final/Polyp-PVT/'+split\n",
    "pred_SLTNet = '/data/yizhenyu/project/video-polyp-seg/SLT-Net/res/longterm/SLT-Net/'+split\n",
    "pred_PraNet = '/memory/yizhenyu/results_map/VPS/PraNet/res_epoch_12/PraNet/'+split\n",
    "pred_UNet = '/data/yizhenyu/project/video-polyp-seg/Comparison/pytorch-nested-unet/outputs/unet/'+split\n",
    "\n",
    "model_names = ['name','LSINet','MAST','SLTNet','PNSplus','PolypPVT','PraNet','UNet']\n",
    "pred_models = [pred_LSINet, pred_MAST, pred_SLTNet, pred_PNSplus, pred_PolypPVT,pred_PraNet,pred_UNet]"
   ]
  },
  {
   "cell_type": "code",
   "execution_count": 6,
   "metadata": {},
   "outputs": [
    {
     "name": "stderr",
     "output_type": "stream",
     "text": [
      "100%|██████████| 88/88 [31:22<00:00, 21.39s/it]\n"
     ]
    }
   ],
   "source": [
    "three_d_data = []\n",
    "case_name = []\n",
    "for case in tqdm(os.listdir(gt_path)):\n",
    "    if 'DS_Store' in case:\n",
    "        continue\n",
    "    \n",
    "    case_name.append(case)\n",
    "    two_d_data = []\n",
    "    for f in os.listdir(gt_path + case):\n",
    "\n",
    "        gt = cv2.imread(os.path.join(gt_path,case,f),cv2.IMREAD_GRAYSCALE)\n",
    "        dices = [f]\n",
    "        for i, model in enumerate(pred_models):\n",
    "            model_name = model_names[i]\n",
    "            pred = cv2.imread(os.path.join(model,case,f),cv2.IMREAD_GRAYSCALE)\n",
    "            dice = cofficent_calculate(pred,gt)\n",
    "            dices.append(dice)\n",
    "\n",
    "        two_d_data.append(dices)\n",
    "    three_d_data.append(two_d_data)\n",
    "        "
   ]
  },
  {
   "cell_type": "code",
   "execution_count": 6,
   "metadata": {},
   "outputs": [],
   "source": [
    "from openpyxl.styles import PatternFill\n",
    "import openpyxl\n",
    "from openpyxl.styles import Color\n",
    "from openpyxl.formatting.rule import ColorScale, FormatObject, Rule\n",
    "import numpy as np\n",
    "\n",
    "# 创建格式对象\n",
    "first = FormatObject(type='min')\n",
    "mid = FormatObject(type='num', val=40)\n",
    "last = FormatObject(type='max')\n",
    "\n",
    "# 创建颜色列表\n",
    "colors = [Color('AA0000'), Color('00AA00')]\n",
    "\n",
    "# 创建色阶规则\n",
    "cs = ColorScale(cfvo=[first, mid, last], color=colors)\n",
    "\n",
    "# 创建规则对象\n",
    "rule = Rule(type='colorScale', colorScale=cs)\n",
    "\n",
    "wb = Workbook()\n",
    "for idx, two_d_data in enumerate(three_d_data):\n",
    "    # 创建一个新的 sheet，名字为 Sheet1、Sheet2、Sheet3...\n",
    "    sheet_name = case_name[idx]\n",
    "    # min_value = min(min(np.exp(row)) for row in two_d_data)\n",
    "    # max_value = max(max(np.exp(row)) for row in two_d_data)\n",
    "    ws = wb.create_sheet(title=sheet_name)\n",
    "    for col_idx, cell_value in enumerate(model_names):\n",
    "        ws.cell(row=1, column=col_idx+1, value=cell_value)\n",
    "\n",
    "    # 将二维数据写入 sheet\n",
    "    for row_idx, row_data in enumerate(two_d_data):\n",
    "        for col_idx, cell_value in enumerate(row_data):\n",
    "            # 在 Excel 中，行和列索引从 1 开始\n",
    "            # 计算蓝色和红色通道的值\n",
    "            # red_value = int((max_value - np.exp(cell_value)) / (max_value - min_value) * 255)\n",
    "            # green_value = int((np.exp(cell_value) - min_value) / (max_value - min_value) * 255)\n",
    "            # 设置单元格背景色\n",
    "            # fill = PatternFill(start_color=f\"FF{red_value:02X}{green_value:02X}00\", end_color=f\"FF{red_value:02X}{green_value:02X}00\", fill_type=\"solid\")\n",
    "            # ws.cell(row=row_idx+2, column=col_idx+1, value=cell_value).fill = fill\n",
    "            ws.cell(row=row_idx+2, column=col_idx+1, value=cell_value)\n",
    "    # color_scale_rule = ColorScaleRule(start_type='min', start_color='0000FF', end_type='max', end_color='FF0000')\n",
    "    # ws.conditional_formatting.add(f\"A1:{openpyxl.utils.get_column_letter(len(two_d_data[0]))}{len(two_d_data)}\", rule)\n",
    "# 保存 Excel 文件\n",
    "wb.save(\"Sample_Dice_easy_unseen.xlsx\")"
   ]
  },
  {
   "cell_type": "code",
   "execution_count": null,
   "metadata": {},
   "outputs": [],
   "source": []
  }
 ],
 "metadata": {
  "kernelspec": {
   "display_name": "SLTnet",
   "language": "python",
   "name": "python3"
  },
  "language_info": {
   "codemirror_mode": {
    "name": "ipython",
    "version": 3
   },
   "file_extension": ".py",
   "mimetype": "text/x-python",
   "name": "python",
   "nbconvert_exporter": "python",
   "pygments_lexer": "ipython3",
   "version": "3.8.18"
  }
 },
 "nbformat": 4,
 "nbformat_minor": 2
}
