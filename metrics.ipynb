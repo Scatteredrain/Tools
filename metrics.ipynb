{
 "cells": [
  {
   "cell_type": "markdown",
   "metadata": {},
   "source": [
    "# calculate"
   ]
  },
  {
   "cell_type": "code",
   "execution_count": 1,
   "metadata": {},
   "outputs": [
    {
     "name": "stderr",
     "output_type": "stream",
     "text": [
      "/home/huqiang/anaconda3/envs/SLTnet/lib/python3.8/site-packages/tqdm/auto.py:21: TqdmWarning: IProgress not found. Please update jupyter and ipywidgets. See https://ipywidgets.readthedocs.io/en/stable/user_install.html\n",
      "  from .autonotebook import tqdm as notebook_tqdm\n"
     ]
    }
   ],
   "source": [
    "import os\n",
    "import cv2\n",
    "import numpy as np\n",
    "import torch\n",
    "import matplotlib.pyplot as plt\n",
    "from tqdm import tqdm"
   ]
  },
  {
   "cell_type": "code",
   "execution_count": 7,
   "metadata": {},
   "outputs": [
    {
     "name": "stderr",
     "output_type": "stream",
     "text": [
      "100%|███████████████████████████████| 210/210 [00:06<00:00, 30.27it/s]\n",
      "100%|███████████████████████████████| 185/185 [00:07<00:00, 25.07it/s]\n",
      "100%|███████████████████████████████| 216/216 [00:08<00:00, 24.24it/s]\n",
      "100%|███████████████████████████████| 226/226 [00:08<00:00, 26.29it/s]\n",
      "100%|███████████████████████████████| 378/378 [00:15<00:00, 23.75it/s]\n",
      "100%|███████████████████████████████| 221/221 [00:08<00:00, 27.49it/s]\n",
      "100%|███████████████████████████████| 233/233 [00:08<00:00, 28.60it/s]\n",
      "100%|███████████████████████████████| 173/173 [00:05<00:00, 29.09it/s]\n",
      "100%|███████████████████████████████| 254/254 [00:08<00:00, 30.52it/s]\n",
      "100%|███████████████████████████████| 193/193 [00:07<00:00, 25.23it/s]\n",
      "100%|███████████████████████████████| 220/220 [00:08<00:00, 26.82it/s]\n",
      "100%|███████████████████████████████| 215/215 [00:08<00:00, 26.62it/s]\n",
      "100%|███████████████████████████████| 323/323 [00:13<00:00, 24.45it/s]\n",
      "100%|███████████████████████████████| 221/221 [00:08<00:00, 26.89it/s]\n",
      "100%|███████████████████████████████| 199/199 [00:07<00:00, 26.49it/s]\n",
      "100%|███████████████████████████████| 179/179 [00:07<00:00, 25.34it/s]\n",
      "100%|███████████████████████████████| 236/236 [00:09<00:00, 23.92it/s]\n"
     ]
    }
   ],
   "source": [
    "pred_root = '../../datasets/snapshot_download_weights/TestHardDataset/Seen/'\n",
    "img_root = '/memory/yizhenyu/dataset/SUN/data/SUN-SEG/TestHardDataset/Seen/Frame/'\n",
    "gt_root = '/memory/yizhenyu/dataset/SUN/data/SUN-SEG/TestHardDataset/Seen/GT/'\n",
    "badsamples = []\n",
    "badsamples_dice = []\n",
    "bindex = 0\n",
    "\n",
    "def cofficent_calculate(preds,gts,threshold=0.5):\n",
    "    eps = 1e-5\n",
    "    preds = preds > threshold\n",
    "    intersection = (preds * gts).sum()\n",
    "    union =(preds + gts).sum()\n",
    "    dice = 2 * intersection  / (union + eps)\n",
    "    iou = intersection/(union - intersection + eps)\n",
    "    return (dice, iou)\n",
    "\n",
    "def prepare_data(pred: np.ndarray, gt: np.ndarray) -> tuple:\n",
    "    if not pred.shape == gt.shape:\n",
    "        pred = cv2.resize(pred, (gt.shape[1], gt.shape[0]))\n",
    "\n",
    "    gt = gt/255 if gt.max() >128 else gt\n",
    "    pred = pred / 255 if pred.max() > 128 else pred\n",
    "    if pred.max() != pred.min():\n",
    "        pred = (pred - pred.min()) / (pred.max() - pred.min())\n",
    "        \n",
    "    return pred, gt\n",
    "\n",
    "res = {}\n",
    "overall_meandice = []\n",
    "for case in os.listdir(pred_root):\n",
    "    res[case] = []\n",
    "    tmp_list = os.listdir(os.path.join(pred_root,case))\n",
    "    tmp_list.sort(key=lambda name: (\n",
    "        int(name.split('_a')[1].split('_')[0]),\n",
    "        int(name.split('_image')[1].split('.png')[\n",
    "                0])))\n",
    "    for name in tqdm(tmp_list,ncols=70):\n",
    "        pred_path = os.path.join(pred_root,case,name)\n",
    "        gt_path = os.path.join(gt_root,case,name)\n",
    "        pred = cv2.imread(pred_path,cv2.IMREAD_GRAYSCALE)\n",
    "        gt = cv2.imread(gt_path,cv2.IMREAD_GRAYSCALE)\n",
    "        pred,gt = prepare_data(pred,gt)\n",
    "        dice, iou = cofficent_calculate(pred,gt)\n",
    "        overall_meandice.append(dice)\n",
    "        res[case].append(dice)"
   ]
  },
  {
   "cell_type": "code",
   "execution_count": 8,
   "metadata": {},
   "outputs": [
    {
     "name": "stdout",
     "output_type": "stream",
     "text": [
      "overall_meandice: 0.8405\n",
      "Meandice on cases: 0.8383\n"
     ]
    }
   ],
   "source": [
    "print('overall_meandice: {:.4f}'.format(np.mean(overall_meandice)))\n",
    "D = np.mean([np.mean(res[case]) for case in res])\n",
    "print('Meandice on cases: {:.4f}'.format(D))"
   ]
  },
  {
   "cell_type": "markdown",
   "metadata": {},
   "source": [
    "# calculate and find bad samples"
   ]
  },
  {
   "cell_type": "code",
   "execution_count": null,
   "metadata": {},
   "outputs": [],
   "source": [
    "import os\n",
    "import cv2\n",
    "import numpy as np\n",
    "import torch\n",
    "import matplotlib.pyplot as plt\n",
    "from tqdm import tqdm\n",
    "\n",
    "class Detect():\n",
    "    def __init__(self) :\n",
    "    \n",
    "        self.pred_root = '../Polyp-Video-Segmentation/VPS/res/snapshot_download_weights/TestHardDataset/Seen/'\n",
    "        self.img_root = '/memory/yizhenyu/dataset/SUN/data/SUN-SEG/TestHardDataset/Seen/Frame/'\n",
    "        self.gt_root = '/memory/yizhenyu/dataset/SUN/data/SUN-SEG/TestHardDataset/Seen/GT/'\n",
    "        self.badsamples = []\n",
    "        self.badsamples_dice = []\n",
    "        self.bindex = 0\n",
    "\n",
    "    def cofficent_calculate(self,preds,gts):\n",
    "        eps = 1e-5\n",
    "        intersection = (preds * gts).sum()\n",
    "        union =(preds + gts).sum()\n",
    "        dice = 2 * intersection  / (union + eps)\n",
    "        iou = intersection/(union - intersection + eps)\n",
    "        return (dice, iou)\n",
    "    \n",
    "    def prepare_data(self,pred: np.ndarray, gt: np.ndarray) -> tuple:\n",
    "        if not pred.shape == gt.shape:\n",
    "            pred = cv2.resize(pred, (gt.shape[1], gt.shape[0]))\n",
    "        gt /= (gt.max() + 1e-8)\n",
    "        pred = pred / 255 if pred.max() > 128 else pred\n",
    "        if pred.max() != pred.min():\n",
    "            pred = (pred - pred.min()) / (pred.max() - pred.min())\n",
    "            \n",
    "        return pred, gt\n",
    "\n",
    "    def find_bad_res(self):\n",
    "        for case in os.listdir(self.pred_root):\n",
    "            tmp_list = os.listdir(os.path.join(self.pred_root,case))\n",
    "            tmp_list.sort(key=lambda name: (\n",
    "                int(name.split('_a')[1].split('_')[0]),\n",
    "                int(name.split('_image')[1].split('.png')[\n",
    "                        0])))\n",
    "            for name in tqdm(tmp_list,ncols=70):\n",
    "                pred_path = os.path.join(self.pred_root,case,name)\n",
    "                gt_path = os.path.join(self.gt_root,case,name)\n",
    "                pred = cv2.imread(pred_path,cv2.IMREAD_GRAYSCALE)\n",
    "                gt = cv2.imread(gt_path,cv2.IMREAD_GRAYSCALE)\n",
    "                pred,gt = self.prepare_data(pred,gt)\n",
    "                dice, iou = self.cofficent_calculate(pred,gt)\n",
    "                if dice < 0.5:\n",
    "                    self.badsamples.append(pred_path)\n",
    "                    self.badsamples_dice.append(dice)\n",
    "\n",
    "    def show_badsamplets(self):\n",
    "        pred_path = self.badsamples[self.bindex]\n",
    "        self.bindex += 1\n",
    "        gt_path = pred_path.replace(self.pred_root,self.gt_root)\n",
    "        img_path = gt_path.replace('GT','Frame').replace('.jpg','.png')\n",
    "\n",
    "        pred = cv2.imread(pred_path,cv2.IMREAD_GRAYSCALE)\n",
    "        gt = cv2.imread(gt_path,cv2.IMREAD_GRAYSCALE)\n",
    "        img = cv2.imread(pred_path)\n",
    "        img = cv2.cvtColor(img,cv2.COLOR_BGR2RGB)\n",
    "        pred,gt = self.prepare_data(pred,gt)\n",
    "        print(img_path)\n",
    "        plt.subplot(131)\n",
    "        plt.imshow(img)\n",
    "        plt.subplot(132)\n",
    "        plt.imshow(gt)\n",
    "        plt.subplot(133)\n",
    "        plt.imshow(pred)\n"
   ]
  },
  {
   "cell_type": "code",
   "execution_count": null,
   "metadata": {},
   "outputs": [],
   "source": [
    "det = Detect()\n",
    "det.find_bad_res()\n",
    "bad = det.badsamples\n",
    "bda_dice = det.badsamples_dice"
   ]
  },
  {
   "cell_type": "code",
   "execution_count": null,
   "metadata": {},
   "outputs": [],
   "source": [
    "from PIL import Image\n",
    "save_path = '/memory/yizhenyu/dataset/SUN/data/SUN-SEG/TestHardDataset/Seen/keshihua_with_PNS+/'\n",
    "os.makedirs(save_path,exist_ok=True)\n",
    "print(len(bad))\n",
    "for i in range(len(bad)):\n",
    "    pred_path = bad[i]\n",
    "    gt_path = pred_path.replace(det.pred_root,det.gt_root)\n",
    "    img_path = gt_path.replace('GT','Frame').replace('.png','.jpg')\n",
    "\n",
    "    pred = cv2.imread(pred_path)\n",
    "    gt = cv2.imread(gt_path)\n",
    "    img = cv2.imread(img_path)\n",
    "    # img = cv2.cvtColor(img)\n",
    "    name = img_path.split('/')[-2] +'_' + img_path.split('/')[-1].replace('.jpg','.png')\n",
    "    # name = img_path.split('/')[-1].replace('.jpg','.png')\n",
    "    # print(img_path)\n",
    "    pred,gt = det.prepare_data(pred,gt)\n",
    "    h,w,c = map(int,img.shape)\n",
    "    # plt.subplot(221)\n",
    "    # plt.subplot(222)\n",
    "    # plt.imshow(gt)\n",
    "    # plt.subplot(223)\n",
    "    # plt.imshow(pred)\n",
    "    blank = np.ones_like(img)\n",
    "    dice = det.badsamples_dice[i]\n",
    "    text = f'dice: {dice:.2f}'\n",
    "    blank = cv2.putText(blank, text, (200, 200), cv2.FONT_HERSHEY_SIMPLEX,\n",
    "                                    5.0, (0, 0, 0), 10, cv2.LINE_AA, False)\n",
    "    img_zhong1 = np.vstack((img/255, pred))\n",
    "    img_zhong2 = np.vstack((gt, blank))\n",
    "    # # axis=1：横向合并 axis=0 纵向合并\n",
    "    img_final = np.concatenate([img_zhong1, img_zhong2], axis=1)\n",
    "\n",
    "    # plt.imshow(img_final)\n",
    "    cv2.imwrite(os.path.join(save_path,name),np.uint8(img_final*255))\n",
    "    # img_final.shape\n",
    "    # result_image = Image.new(\"RGB\", (w*2, h*2))\n",
    "    # result_image.paste(img, (0, 0))\n",
    "    # result_image.paste(gt, (h, 0))\n",
    "    # result_image.paste(pred, (0, w))\n",
    "    # result_image = np.array(result_image)\n",
    "    # plt.imshow(result_image)"
   ]
  },
  {
   "cell_type": "code",
   "execution_count": null,
   "metadata": {},
   "outputs": [],
   "source": []
  },
  {
   "cell_type": "code",
   "execution_count": 8,
   "metadata": {},
   "outputs": [
    {
     "data": {
      "text/plain": [
       "4"
      ]
     },
     "execution_count": 8,
     "metadata": {},
     "output_type": "execute_result"
    }
   ],
   "source": [
    "pred = np.array([True,True,False])\n",
    "gt = np.array([1,0,1])\n",
    "(pred+gt).sum()"
   ]
  },
  {
   "cell_type": "code",
   "execution_count": null,
   "metadata": {},
   "outputs": [],
   "source": []
  }
 ],
 "metadata": {
  "kernelspec": {
   "display_name": "SLTnet",
   "language": "python",
   "name": "python3"
  },
  "language_info": {
   "codemirror_mode": {
    "name": "ipython",
    "version": 3
   },
   "file_extension": ".py",
   "mimetype": "text/x-python",
   "name": "python",
   "nbconvert_exporter": "python",
   "pygments_lexer": "ipython3",
   "version": "3.8.18"
  }
 },
 "nbformat": 4,
 "nbformat_minor": 2
}
