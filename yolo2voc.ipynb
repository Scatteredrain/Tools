{
 "cells": [
  {
   "cell_type": "code",
   "execution_count": 1,
   "metadata": {},
   "outputs": [],
   "source": [
    "import argparse\n",
    "import os\n",
    "import sys\n",
    "import shutil\n",
    "\n",
    "import cv2\n",
    "from lxml import etree, objectify\n",
    "\n",
    "# 将标签信息写入xml\n",
    "from tqdm import tqdm"
   ]
  },
  {
   "cell_type": "code",
   "execution_count": 64,
   "metadata": {},
   "outputs": [],
   "source": [
    "def save_anno_to_xml(filename, size, objs, save_path):\n",
    "    E = objectify.ElementMaker(annotate=False)\n",
    "    anno_tree = E.annotation(\n",
    "        E.folder(\"DATA\"),\n",
    "        E.filename(filename),\n",
    "        E.source(\n",
    "            E.database(\"The VOC Database\"),\n",
    "            E.annotation(\"PASCAL VOC\"),\n",
    "            E.image(\"flickr\")\n",
    "        ),\n",
    "        E.size(\n",
    "            E.width(size[1]),\n",
    "            E.height(size[0]),\n",
    "            E.depth(size[2])\n",
    "        ),\n",
    "        E.segmented(0)\n",
    "    )\n",
    "    for obj in objs:\n",
    "        E2 = objectify.ElementMaker(annotate=False)\n",
    "        if obj[0] == 'nopolyp':\n",
    "            anno_tree2 = E2.object(\n",
    "            E.name(obj[0]),\n",
    "            E.positive(0),\n",
    "            E.truncated(0),\n",
    "            E.difficult(0),\n",
    "            E.bndbox(\n",
    "                E.xmin(obj[1][0]),\n",
    "                E.ymin(obj[1][1]),\n",
    "                E.xmax(obj[1][2]),\n",
    "                E.ymax(obj[1][3])\n",
    "                )\n",
    "            )\n",
    "        else:\n",
    "            anno_tree2 = E2.object(\n",
    "            E.name(obj[0]),\n",
    "            E.positive(1),\n",
    "            E.truncated(0),\n",
    "            E.difficult(0),\n",
    "            E.bndbox(\n",
    "                E.xmin(obj[1][0]),\n",
    "                E.ymin(obj[1][1]),\n",
    "                E.xmax(obj[1][2]),\n",
    "                E.ymax(obj[1][3])\n",
    "                )\n",
    "            )\n",
    "        anno_tree.append(anno_tree2)\n",
    "\n",
    "    anno_path = os.path.join(save_path, filename[:-3] + \"xml\")\n",
    "    etree.ElementTree(anno_tree).write(anno_path, pretty_print=True)\n",
    "    \n",
    "\n",
    "\n",
    "def xywhn2xyxy(bbox, size):\n",
    "    bbox = list(map(float, bbox))\n",
    "    size = list(map(float, size))\n",
    "    xmin = (bbox[0] - bbox[2] / 2.) * size[1]\n",
    "    ymin = (bbox[1] - bbox[3] / 2.) * size[0]\n",
    "    xmax = (bbox[0] + bbox[2] / 2.) * size[1]\n",
    "    ymax = (bbox[1] + bbox[3] / 2.) * size[0]\n",
    "    box = [xmin, ymin, xmax, ymax]\n",
    "    return list(map(int, box))\n",
    "\n",
    "\n",
    "def parseXmlFilse(image_path, anno_path,class_path, save_path):\n",
    "    global images_nums, category_nums, bbox_nums\n",
    "    assert os.path.exists(image_path), \"ERROR {} dose not exists\".format(image_path)\n",
    "    assert os.path.exists(anno_path), \"ERROR {} dose not exists\".format(anno_path)\n",
    "    if os.path.exists(save_path):\n",
    "        shutil.rmtree(save_path)\n",
    "    os.makedirs(save_path)\n",
    "\n",
    "    category_set = []\n",
    "    with open(class_path, 'r') as f:\n",
    "        for i in f.readlines():\n",
    "            category_set.append(i.strip())\n",
    "    category_nums = len(category_set)\n",
    "    category_id = dict((k, v) for k, v in enumerate(category_set))\n",
    "\n",
    "    images = [os.path.join(image_path, i) for i in os.listdir(image_path)]\n",
    "    files = [os.path.join(anno_path, i) for i in os.listdir(anno_path)]\n",
    "    images_index = dict((v.split(os.sep)[-1][:-4], k) for k, v in enumerate(images))\n",
    "    images_nums = len(images)\n",
    "\n",
    "    for file in tqdm(files, ncols = 80):\n",
    "        if os.path.splitext(file)[-1] != '.txt' or 'classes' in file.split(os.sep)[-1]:\n",
    "            continue\n",
    "        if file.split(os.sep)[-1][:-4] in images_index:\n",
    "            index = images_index[file.split(os.sep)[-1][:-4]]\n",
    "            img = cv2.imread(images[index])\n",
    "            shape = img.shape\n",
    "            filename = images[index].split(os.sep)[-1]\n",
    "        else:\n",
    "            continue\n",
    "        objects = []\n",
    "        if os.path.getsize(file) == 0:\n",
    "            objects.append(['nopolyp',[0,0,0,0]])\n",
    "            continue\n",
    "        with open(file, 'r') as fid:\n",
    "            ## LDPolypVideo\n",
    "            # for line in fid.readlines()[1:]:\n",
    "            #     xmin, ymin, xmax, ymax     = line.strip().split(' ')\n",
    "            #     xmin, ymin, xmax, ymax     = int(xmin), int(ymin), int(xmax), int(ymax)\n",
    "            #     obj = [category_id[0],[xmin,ymin,xmax,ymax]]    \n",
    "            #     objects.append(obj)    \n",
    "            ## yolo\n",
    "            for i in fid.readlines():\n",
    "                i = i.strip().split() \n",
    "                category = int(i[0])\n",
    "                category_name = category_id[category]\n",
    "                bbox = xywhn2xyxy((i[1], i[2], i[3], i[4]), shape)\n",
    "                obj = [category_name, bbox]\n",
    "                objects.append(obj)\n",
    "        bbox_nums += len(objects)\n",
    "        save_anno_to_xml(filename, shape, objects, save_path)\n",
    " "
   ]
  },
  {
   "cell_type": "code",
   "execution_count": 65,
   "metadata": {},
   "outputs": [
    {
     "name": "stderr",
     "output_type": "stream",
     "text": [
      "100%|██████████████████████████████████████████| 60/60 [00:00<00:00, 158.27it/s]"
     ]
    },
    {
     "name": "stdout",
     "output_type": "stream",
     "text": [
      "image nums: 60\n",
      "category nums: 1\n",
      "bbox nums: 60\n"
     ]
    },
    {
     "name": "stderr",
     "output_type": "stream",
     "text": [
      "\n"
     ]
    }
   ],
   "source": [
    "\"\"\"\n",
    "脚本说明：\n",
    "    本脚本用于将yolo/LDPolypVideo格式的标注文件.txt转换为voc格式的标注文件.xml\n",
    "参数说明：\n",
    "    anno_path:标注文件txt存储路径\n",
    "    save_path:xml文件输出的文件夹\n",
    "    image_path:图片路径\n",
    "\"\"\"\n",
    "images_nums = 0\n",
    "category_nums = 0\n",
    "bbox_nums = 0\n",
    "anno_path = '../../../Dataset/Five_TestDataset/CVC-300/labels'\n",
    "save_path = '../../Polyp-Video-Detection/STFT/datasets/CVC-300'\n",
    "image_path = '../../../Dataset/Five_TestDataset/CVC-300/images'\n",
    "class_path = '/data1/YiZhenyu/Project/polyp-segmentation/Polyp-PVT/dataset/TrainDataset/CVC550_Kvasir900/classes.txt'\n",
    "\n",
    "\n",
    "parseXmlFilse(image_path, anno_path,class_path, save_path)\n",
    "print(\"image nums: {}\".format(images_nums))\n",
    "print(\"category nums: {}\".format(category_nums))\n",
    "print(\"bbox nums: {}\".format(bbox_nums))"
   ]
  },
  {
   "cell_type": "code",
   "execution_count": 44,
   "metadata": {},
   "outputs": [
    {
     "name": "stdout",
     "output_type": "stream",
     "text": [
      "1\n"
     ]
    }
   ],
   "source": [
    "file = '1.txt'\n",
    "with open(file, 'r') as fid:\n",
    "    if not fid.read().strip():\n",
    "        print(1)\n"
   ]
  },
  {
   "cell_type": "code",
   "execution_count": 3,
   "metadata": {},
   "outputs": [],
   "source": [
    "# generate LDPolypVideo dataset ImageSets\n",
    "import os\n",
    "lens = 0\n",
    "train_paths = []\n",
    "test_paths = []\n",
    "path = '/memory/yizhenyu/dataset/LDPolypVideo/Annotations'\n",
    "for file in os.listdir(path):\n",
    "    # if int(file) > 100: continue\n",
    "    file_path = os.path.join(path,file)\n",
    "    folder_len = len(os.listdir(file_path))\n",
    "    for name in os.listdir(file_path):\n",
    "        path0 = os.path.join(file_path,name)\n",
    "        with open(path0,'r') as f:\n",
    "            if f.read().strip() == '0':\n",
    "                continue\n",
    "            elif int(file) <= 100: train_paths.append([os.path.join(file,name),folder_len])\n",
    "            else: test_paths.append([os.path.join(file,name),folder_len])"
   ]
  },
  {
   "cell_type": "code",
   "execution_count": 1,
   "metadata": {},
   "outputs": [
    {
     "ename": "NameError",
     "evalue": "name 'train_paths' is not defined",
     "output_type": "error",
     "traceback": [
      "\u001b[0;31m---------------------------------------------------------------------------\u001b[0m",
      "\u001b[0;31mNameError\u001b[0m                                 Traceback (most recent call last)",
      "\u001b[1;32m/data1/YiZhenyu/Project/tools/data_format_change/yolo2voc.ipynb 单元格 6\u001b[0m line \u001b[0;36m4\n\u001b[1;32m      <a href='vscode-notebook-cell://ssh-remote%2B222.20.94.126/data1/YiZhenyu/Project/tools/data_format_change/yolo2voc.ipynb#W5sdnNjb2RlLXJlbW90ZQ%3D%3D?line=0'>1</a>\u001b[0m \u001b[39m# for path in train_paths:\u001b[39;00m\n\u001b[1;32m      <a href='vscode-notebook-cell://ssh-remote%2B222.20.94.126/data1/YiZhenyu/Project/tools/data_format_change/yolo2voc.ipynb#W5sdnNjb2RlLXJlbW90ZQ%3D%3D?line=1'>2</a>\u001b[0m \u001b[39m#     print(path)\u001b[39;00m\n\u001b[1;32m      <a href='vscode-notebook-cell://ssh-remote%2B222.20.94.126/data1/YiZhenyu/Project/tools/data_format_change/yolo2voc.ipynb#W5sdnNjb2RlLXJlbW90ZQ%3D%3D?line=2'>3</a>\u001b[0m \u001b[39m#     break\u001b[39;00m\n\u001b[0;32m----> <a href='vscode-notebook-cell://ssh-remote%2B222.20.94.126/data1/YiZhenyu/Project/tools/data_format_change/yolo2voc.ipynb#W5sdnNjb2RlLXJlbW90ZQ%3D%3D?line=3'>4</a>\u001b[0m \u001b[39mlen\u001b[39m(train_paths)\n",
      "\u001b[0;31mNameError\u001b[0m: name 'train_paths' is not defined"
     ]
    }
   ],
   "source": [
    "# for path in train_paths:\n",
    "#     print(path)\n",
    "#     break\n",
    "len(train_paths)"
   ]
  },
  {
   "cell_type": "code",
   "execution_count": 7,
   "metadata": {},
   "outputs": [],
   "source": [
    "save_path = '/memory/yizhenyu/dataset/LDPolypVideo/ImageSets/LDPolypVideo_val_videos.txt'\n",
    "with open(save_path,'a') as f:\n",
    "    for path in test_paths:\n",
    "        f.write(path[0][:-4]+' '+str(path[1]))\n",
    "        f.write('\\n')"
   ]
  },
  {
   "cell_type": "code",
   "execution_count": 31,
   "metadata": {},
   "outputs": [
    {
     "name": "stdout",
     "output_type": "stream",
     "text": [
      "True\n",
      "False\n",
      "False\n"
     ]
    }
   ],
   "source": [
    "for file in os.listdir(path):\n",
    "    if 99 <= int(file) <= 101 :\n",
    "        print(file == '101')"
   ]
  },
  {
   "cell_type": "code",
   "execution_count": 13,
   "metadata": {},
   "outputs": [],
   "source": [
    "path = '/memory/yizhenyu/dataset/LDPolypVideo/Annotations/100/0001.txt'"
   ]
  },
  {
   "cell_type": "code",
   "execution_count": 5,
   "metadata": {},
   "outputs": [
    {
     "data": {
      "text/plain": [
       "'0\\n'"
      ]
     },
     "execution_count": 5,
     "metadata": {},
     "output_type": "execute_result"
    }
   ],
   "source": [
    "with open(path, 'r') as f:\n",
    "    lines = f.readlines()\n",
    "    for line in lines[1:]:\n",
    "        xmin, ymin, xmax, ymax     = line.strip().split(' ')\n",
    "        xmin, ymin, xmax, ymax     = int(xmin), int(ymin), int(xmax), int(ymax)\n",
    "        mask1[ymin:ymax, xmin:xmax] = 1"
   ]
  },
  {
   "cell_type": "code",
   "execution_count": 20,
   "metadata": {},
   "outputs": [
    {
     "data": {
      "text/plain": [
       "True"
      ]
     },
     "execution_count": 20,
     "metadata": {},
     "output_type": "execute_result"
    }
   ],
   "source": [
    "cont.strip() == '0'"
   ]
  },
  {
   "cell_type": "code",
   "execution_count": 18,
   "metadata": {},
   "outputs": [],
   "source": [
    "x = 342\n",
    "# len(str(x))\n",
    "for _ in range(4-len(str(x))):\n",
    "    x = '0'+ str(x)"
   ]
  },
  {
   "cell_type": "code",
   "execution_count": 22,
   "metadata": {},
   "outputs": [
    {
     "data": {
      "text/plain": [
       "'0342'"
      ]
     },
     "execution_count": 22,
     "metadata": {},
     "output_type": "execute_result"
    }
   ],
   "source": [
    "x"
   ]
  },
  {
   "cell_type": "code",
   "execution_count": 2,
   "metadata": {},
   "outputs": [],
   "source": [
    "class ss:\n",
    "    def pp(self):\n",
    "        print(1)\n",
    "\n",
    "    def qq(self):\n",
    "        self.pp()"
   ]
  },
  {
   "cell_type": "code",
   "execution_count": 5,
   "metadata": {},
   "outputs": [
    {
     "name": "stdout",
     "output_type": "stream",
     "text": [
      "1\n"
     ]
    }
   ],
   "source": [
    "a = ss()\n",
    "a.qq()"
   ]
  },
  {
   "cell_type": "code",
   "execution_count": null,
   "metadata": {},
   "outputs": [],
   "source": []
  }
 ],
 "metadata": {
  "kernelspec": {
   "display_name": "yezey",
   "language": "python",
   "name": "python3"
  },
  "language_info": {
   "codemirror_mode": {
    "name": "ipython",
    "version": 3
   },
   "file_extension": ".py",
   "mimetype": "text/x-python",
   "name": "python",
   "nbconvert_exporter": "python",
   "pygments_lexer": "ipython3",
   "version": "3.8.16"
  }
 },
 "nbformat": 4,
 "nbformat_minor": 2
}
